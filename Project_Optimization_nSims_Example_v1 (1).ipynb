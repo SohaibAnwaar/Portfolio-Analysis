{
 "cells": [
  {
   "cell_type": "code",
   "execution_count": 1,
   "id": "9f00588e",
   "metadata": {
    "scrolled": false
   },
   "outputs": [
    {
     "name": "stdout",
     "output_type": "stream",
     "text": [
      "[*********************100%***********************]  10 of 10 completed\n"
     ]
    },
    {
     "data": {
      "text/html": [
       "<div>\n",
       "<style scoped>\n",
       "    .dataframe tbody tr th:only-of-type {\n",
       "        vertical-align: middle;\n",
       "    }\n",
       "\n",
       "    .dataframe tbody tr th {\n",
       "        vertical-align: top;\n",
       "    }\n",
       "\n",
       "    .dataframe thead th {\n",
       "        text-align: right;\n",
       "    }\n",
       "</style>\n",
       "<table border=\"1\" class=\"dataframe\">\n",
       "  <thead>\n",
       "    <tr style=\"text-align: right;\">\n",
       "      <th></th>\n",
       "      <th>JCI</th>\n",
       "      <th>TGT</th>\n",
       "      <th>CMCSA</th>\n",
       "      <th>CPB</th>\n",
       "      <th>MO</th>\n",
       "      <th>APA</th>\n",
       "      <th>MMC</th>\n",
       "      <th>JPM</th>\n",
       "      <th>MSFT</th>\n",
       "      <th>PSA</th>\n",
       "    </tr>\n",
       "    <tr>\n",
       "      <th>Date</th>\n",
       "      <th></th>\n",
       "      <th></th>\n",
       "      <th></th>\n",
       "      <th></th>\n",
       "      <th></th>\n",
       "      <th></th>\n",
       "      <th></th>\n",
       "      <th></th>\n",
       "      <th></th>\n",
       "      <th></th>\n",
       "    </tr>\n",
       "  </thead>\n",
       "  <tbody>\n",
       "    <tr>\n",
       "      <th>2019-01-03</th>\n",
       "      <td>0.2582%</td>\n",
       "      <td>0.7856%</td>\n",
       "      <td>1.2399%</td>\n",
       "      <td>-1.6066%</td>\n",
       "      <td>-1.4212%</td>\n",
       "      <td>-1.3031%</td>\n",
       "      <td>-0.5476%</td>\n",
       "      <td>-3.6788%</td>\n",
       "      <td>1.9174%</td>\n",
       "      <td>-1.3696%</td>\n",
       "    </tr>\n",
       "    <tr>\n",
       "      <th>2019-01-04</th>\n",
       "      <td>4.1943%</td>\n",
       "      <td>3.3776%</td>\n",
       "      <td>0.5511%</td>\n",
       "      <td>3.9987%</td>\n",
       "      <td>3.6865%</td>\n",
       "      <td>2.4484%</td>\n",
       "      <td>2.5693%</td>\n",
       "      <td>4.6509%</td>\n",
       "      <td>-1.1066%</td>\n",
       "      <td>1.3734%</td>\n",
       "    </tr>\n",
       "    <tr>\n",
       "      <th>2019-01-07</th>\n",
       "      <td>2.1540%</td>\n",
       "      <td>-1.0611%</td>\n",
       "      <td>2.5883%</td>\n",
       "      <td>1.6341%</td>\n",
       "      <td>0.0695%</td>\n",
       "      <td>0.4379%</td>\n",
       "      <td>-3.0219%</td>\n",
       "      <td>0.1275%</td>\n",
       "      <td>-0.2798%</td>\n",
       "      <td>4.8923%</td>\n",
       "    </tr>\n",
       "    <tr>\n",
       "      <th>2019-01-08</th>\n",
       "      <td>1.4864%</td>\n",
       "      <td>0.8185%</td>\n",
       "      <td>0.7498%</td>\n",
       "      <td>0.6936%</td>\n",
       "      <td>-0.1886%</td>\n",
       "      <td>0.6852%</td>\n",
       "      <td>0.5740%</td>\n",
       "      <td>0.7251%</td>\n",
       "      <td>1.7955%</td>\n",
       "      <td>-0.1005%</td>\n",
       "    </tr>\n",
       "    <tr>\n",
       "      <th>2019-01-09</th>\n",
       "      <td>5.1090%</td>\n",
       "      <td>0.9518%</td>\n",
       "      <td>1.7565%</td>\n",
       "      <td>0.0939%</td>\n",
       "      <td>-0.1690%</td>\n",
       "      <td>0.0866%</td>\n",
       "      <td>1.2230%</td>\n",
       "      <td>1.4300%</td>\n",
       "      <td>-0.6965%</td>\n",
       "      <td>0.9769%</td>\n",
       "    </tr>\n",
       "  </tbody>\n",
       "</table>\n",
       "</div>"
      ],
      "text/plain": [
       "               JCI      TGT   CMCSA      CPB       MO      APA      MMC  \\\n",
       "Date                                                                      \n",
       "2019-01-03 0.2582%  0.7856% 1.2399% -1.6066% -1.4212% -1.3031% -0.5476%   \n",
       "2019-01-04 4.1943%  3.3776% 0.5511%  3.9987%  3.6865%  2.4484%  2.5693%   \n",
       "2019-01-07 2.1540% -1.0611% 2.5883%  1.6341%  0.0695%  0.4379% -3.0219%   \n",
       "2019-01-08 1.4864%  0.8185% 0.7498%  0.6936% -0.1886%  0.6852%  0.5740%   \n",
       "2019-01-09 5.1090%  0.9518% 1.7565%  0.0939% -0.1690%  0.0866%  1.2230%   \n",
       "\n",
       "                JPM     MSFT      PSA  \n",
       "Date                                   \n",
       "2019-01-03 -3.6788%  1.9174% -1.3696%  \n",
       "2019-01-04  4.6509% -1.1066%  1.3734%  \n",
       "2019-01-07  0.1275% -0.2798%  4.8923%  \n",
       "2019-01-08  0.7251%  1.7955% -0.1005%  \n",
       "2019-01-09  1.4300% -0.6965%  0.9769%  "
      ]
     },
     "metadata": {},
     "output_type": "display_data"
    }
   ],
   "source": [
    "import numpy as np\n",
    "import pandas as pd\n",
    "import yfinance as yf\n",
    "import warnings\n",
    "\n",
    "warnings.filterwarnings(\"ignore\")\n",
    "\n",
    "yf.pdr_override()\n",
    "pd.options.display.float_format = '{:.4%}'.format\n",
    "\n",
    "# Date range\n",
    "start = '2019-01-01'\n",
    "end = '2021-12-30'\n",
    "\n",
    "# Tickers of assets\n",
    "my_stocks = ['JCI', 'TGT', 'CMCSA', 'CPB', 'MO', 'APA', 'MMC', 'JPM',\n",
    "          'MSFT', 'PSA']\n",
    "my_etfs= ['XIU.TO', 'SPY', 'AGG']\n",
    "all_assets = my_stocks + my_etfs\n",
    "\n",
    "\n",
    "\n",
    "\n",
    "# Downloading data for stock portfolio\n",
    "data = yf.download(my_stocks, start = start, end = end)\n",
    "data = data.loc[:,('Adj Close', slice(None))]\n",
    "data.columns = my_stocks\n",
    "#Calculating returns\n",
    "stock_returns = data[my_stocks].pct_change().dropna()\n",
    "display(stock_returns.head())"
   ]
  },
  {
   "cell_type": "code",
   "execution_count": 2,
   "id": "cc9ac752",
   "metadata": {},
   "outputs": [
    {
     "data": {
      "text/html": [
       "<div>\n",
       "<style scoped>\n",
       "    .dataframe tbody tr th:only-of-type {\n",
       "        vertical-align: middle;\n",
       "    }\n",
       "\n",
       "    .dataframe tbody tr th {\n",
       "        vertical-align: top;\n",
       "    }\n",
       "\n",
       "    .dataframe thead th {\n",
       "        text-align: right;\n",
       "    }\n",
       "</style>\n",
       "<table border=\"1\" class=\"dataframe\">\n",
       "  <thead>\n",
       "    <tr style=\"text-align: right;\">\n",
       "      <th></th>\n",
       "      <th>MY_STOCK_Portf</th>\n",
       "    </tr>\n",
       "    <tr>\n",
       "      <th>Date</th>\n",
       "      <th></th>\n",
       "    </tr>\n",
       "  </thead>\n",
       "  <tbody>\n",
       "    <tr>\n",
       "      <th>2019-01-03</th>\n",
       "      <td>-0.5726%</td>\n",
       "    </tr>\n",
       "    <tr>\n",
       "      <th>2019-01-04</th>\n",
       "      <td>2.5744%</td>\n",
       "    </tr>\n",
       "    <tr>\n",
       "      <th>2019-01-07</th>\n",
       "      <td>0.7541%</td>\n",
       "    </tr>\n",
       "    <tr>\n",
       "      <th>2019-01-08</th>\n",
       "      <td>0.7239%</td>\n",
       "    </tr>\n",
       "    <tr>\n",
       "      <th>2019-01-09</th>\n",
       "      <td>1.0762%</td>\n",
       "    </tr>\n",
       "  </tbody>\n",
       "</table>\n",
       "</div>"
      ],
      "text/plain": [
       "            MY_STOCK_Portf\n",
       "Date                      \n",
       "2019-01-03        -0.5726%\n",
       "2019-01-04         2.5744%\n",
       "2019-01-07         0.7541%\n",
       "2019-01-08         0.7239%\n",
       "2019-01-09         1.0762%"
      ]
     },
     "metadata": {},
     "output_type": "display_data"
    }
   ],
   "source": [
    "# Calculate the Historical Return series of an equal-weighted portfolio of stocks\n",
    "stock_port_weights = [0.1]*len(my_stocks)\n",
    "weighted_returns = (stock_port_weights * stock_returns)\n",
    "stock_port_ret = weighted_returns.sum(axis=1) # Historical Returns of the Stock Portion\n",
    "stock_port_ret = pd.DataFrame(stock_port_ret)\n",
    "stock_port_ret.columns = ['MY_STOCK_Portf']\n",
    "display(stock_port_ret.head())"
   ]
  },
  {
   "cell_type": "code",
   "execution_count": 3,
   "id": "c37796b8",
   "metadata": {},
   "outputs": [
    {
     "name": "stdout",
     "output_type": "stream",
     "text": [
      "[*********************100%***********************]  3 of 3 completed\n"
     ]
    },
    {
     "data": {
      "text/html": [
       "<div>\n",
       "<style scoped>\n",
       "    .dataframe tbody tr th:only-of-type {\n",
       "        vertical-align: middle;\n",
       "    }\n",
       "\n",
       "    .dataframe tbody tr th {\n",
       "        vertical-align: top;\n",
       "    }\n",
       "\n",
       "    .dataframe thead th {\n",
       "        text-align: right;\n",
       "    }\n",
       "</style>\n",
       "<table border=\"1\" class=\"dataframe\">\n",
       "  <thead>\n",
       "    <tr style=\"text-align: right;\">\n",
       "      <th></th>\n",
       "      <th>XIU.TO</th>\n",
       "      <th>SPY</th>\n",
       "      <th>AGG</th>\n",
       "    </tr>\n",
       "    <tr>\n",
       "      <th>Date</th>\n",
       "      <th></th>\n",
       "      <th></th>\n",
       "      <th></th>\n",
       "    </tr>\n",
       "  </thead>\n",
       "  <tbody>\n",
       "    <tr>\n",
       "      <th>2019-01-03</th>\n",
       "      <td>0.4129%</td>\n",
       "      <td>-2.3863%</td>\n",
       "      <td>-1.0171%</td>\n",
       "    </tr>\n",
       "    <tr>\n",
       "      <th>2019-01-04</th>\n",
       "      <td>-0.2990%</td>\n",
       "      <td>3.3496%</td>\n",
       "      <td>1.5880%</td>\n",
       "    </tr>\n",
       "    <tr>\n",
       "      <th>2019-01-07</th>\n",
       "      <td>-0.1687%</td>\n",
       "      <td>0.7885%</td>\n",
       "      <td>0.4598%</td>\n",
       "    </tr>\n",
       "    <tr>\n",
       "      <th>2019-01-08</th>\n",
       "      <td>-0.0751%</td>\n",
       "      <td>0.9395%</td>\n",
       "      <td>0.7323%</td>\n",
       "    </tr>\n",
       "    <tr>\n",
       "      <th>2019-01-09</th>\n",
       "      <td>0.0845%</td>\n",
       "      <td>0.4674%</td>\n",
       "      <td>1.3630%</td>\n",
       "    </tr>\n",
       "  </tbody>\n",
       "</table>\n",
       "</div>"
      ],
      "text/plain": [
       "             XIU.TO      SPY      AGG\n",
       "Date                                 \n",
       "2019-01-03  0.4129% -2.3863% -1.0171%\n",
       "2019-01-04 -0.2990%  3.3496%  1.5880%\n",
       "2019-01-07 -0.1687%  0.7885%  0.4598%\n",
       "2019-01-08 -0.0751%  0.9395%  0.7323%\n",
       "2019-01-09  0.0845%  0.4674%  1.3630%"
      ]
     },
     "metadata": {},
     "output_type": "display_data"
    }
   ],
   "source": [
    "# Collect the returns data for the ETFs\n",
    "# Downloading data for stock portfolio\n",
    "data = yf.download(my_etfs, start = start, end = end)\n",
    "data = data.loc[:,('Adj Close', slice(None))]\n",
    "data.columns = my_etfs\n",
    "#Calculating returns\n",
    "etf_returns = data[my_etfs].pct_change().dropna()\n",
    "etf_returns = pd.DataFrame(etf_returns)\n",
    "display(etf_returns.head())"
   ]
  },
  {
   "cell_type": "code",
   "execution_count": 4,
   "id": "df981f81",
   "metadata": {},
   "outputs": [
    {
     "data": {
      "text/html": [
       "<div>\n",
       "<style scoped>\n",
       "    .dataframe tbody tr th:only-of-type {\n",
       "        vertical-align: middle;\n",
       "    }\n",
       "\n",
       "    .dataframe tbody tr th {\n",
       "        vertical-align: top;\n",
       "    }\n",
       "\n",
       "    .dataframe thead th {\n",
       "        text-align: right;\n",
       "    }\n",
       "</style>\n",
       "<table border=\"1\" class=\"dataframe\">\n",
       "  <thead>\n",
       "    <tr style=\"text-align: right;\">\n",
       "      <th></th>\n",
       "      <th>XIU.TO</th>\n",
       "      <th>SPY</th>\n",
       "      <th>AGG</th>\n",
       "      <th>MY_STOCK_Portf</th>\n",
       "    </tr>\n",
       "    <tr>\n",
       "      <th>Date</th>\n",
       "      <th></th>\n",
       "      <th></th>\n",
       "      <th></th>\n",
       "      <th></th>\n",
       "    </tr>\n",
       "  </thead>\n",
       "  <tbody>\n",
       "    <tr>\n",
       "      <th>2019-01-03</th>\n",
       "      <td>0.4129%</td>\n",
       "      <td>-2.3863%</td>\n",
       "      <td>-1.0171%</td>\n",
       "      <td>-0.5726%</td>\n",
       "    </tr>\n",
       "    <tr>\n",
       "      <th>2019-01-04</th>\n",
       "      <td>-0.2990%</td>\n",
       "      <td>3.3496%</td>\n",
       "      <td>1.5880%</td>\n",
       "      <td>2.5744%</td>\n",
       "    </tr>\n",
       "    <tr>\n",
       "      <th>2019-01-07</th>\n",
       "      <td>-0.1687%</td>\n",
       "      <td>0.7885%</td>\n",
       "      <td>0.4598%</td>\n",
       "      <td>0.7541%</td>\n",
       "    </tr>\n",
       "    <tr>\n",
       "      <th>2019-01-08</th>\n",
       "      <td>-0.0751%</td>\n",
       "      <td>0.9395%</td>\n",
       "      <td>0.7323%</td>\n",
       "      <td>0.7239%</td>\n",
       "    </tr>\n",
       "    <tr>\n",
       "      <th>2019-01-09</th>\n",
       "      <td>0.0845%</td>\n",
       "      <td>0.4674%</td>\n",
       "      <td>1.3630%</td>\n",
       "      <td>1.0762%</td>\n",
       "    </tr>\n",
       "  </tbody>\n",
       "</table>\n",
       "</div>"
      ],
      "text/plain": [
       "             XIU.TO      SPY      AGG  MY_STOCK_Portf\n",
       "Date                                                 \n",
       "2019-01-03  0.4129% -2.3863% -1.0171%        -0.5726%\n",
       "2019-01-04 -0.2990%  3.3496%  1.5880%         2.5744%\n",
       "2019-01-07 -0.1687%  0.7885%  0.4598%         0.7541%\n",
       "2019-01-08 -0.0751%  0.9395%  0.7323%         0.7239%\n",
       "2019-01-09  0.0845%  0.4674%  1.3630%         1.0762%"
      ]
     },
     "metadata": {},
     "output_type": "display_data"
    }
   ],
   "source": [
    "# Now, combine the historical returns of the ETFs with the Stock Portfolio Returns\n",
    "all_returns = pd.merge(etf_returns, stock_port_ret, on='Date')\n",
    "display(all_returns.head())"
   ]
  },
  {
   "cell_type": "code",
   "execution_count": 5,
   "id": "7c778a84",
   "metadata": {},
   "outputs": [],
   "source": [
    "#!pip install pybind11"
   ]
  },
  {
   "cell_type": "code",
   "execution_count": 6,
   "id": "2a56849a",
   "metadata": {},
   "outputs": [],
   "source": [
    "#!pip install riskfolio-lib"
   ]
  },
  {
   "cell_type": "code",
   "execution_count": 7,
   "id": "27ef00d7",
   "metadata": {},
   "outputs": [],
   "source": [
    "import riskfolio as rp"
   ]
  },
  {
   "cell_type": "code",
   "execution_count": 8,
   "id": "5ea492b5",
   "metadata": {},
   "outputs": [
    {
     "data": {
      "text/plain": [
       "<module 'riskfolio.src' from 'C:\\\\ProgramData\\\\Anaconda3\\\\envs\\\\portfolio\\\\lib\\\\site-packages\\\\riskfolio\\\\src\\\\__init__.py'>"
      ]
     },
     "execution_count": 8,
     "metadata": {},
     "output_type": "execute_result"
    }
   ],
   "source": [
    "rp.src\n"
   ]
  },
  {
   "cell_type": "code",
   "execution_count": 9,
   "id": "67ad9fe2",
   "metadata": {},
   "outputs": [
    {
     "ename": "AttributeError",
     "evalue": "module 'riskfolio' has no attribute 'riskfolio'",
     "output_type": "error",
     "traceback": [
      "\u001b[1;31m---------------------------------------------------------------------------\u001b[0m",
      "\u001b[1;31mAttributeError\u001b[0m                            Traceback (most recent call last)",
      "Cell \u001b[1;32mIn[9], line 5\u001b[0m\n\u001b[0;32m      1\u001b[0m \u001b[38;5;28;01mimport\u001b[39;00m \u001b[38;5;21;01mriskfolio\u001b[39;00m\n\u001b[0;32m      4\u001b[0m \u001b[38;5;66;03m# Building the portfolio object\u001b[39;00m\n\u001b[1;32m----> 5\u001b[0m port \u001b[38;5;241m=\u001b[39m \u001b[43mrp\u001b[49m\u001b[38;5;241;43m.\u001b[39;49m\u001b[43mriskfolio\u001b[49m\u001b[38;5;241m.\u001b[39mPortfolio(returns\u001b[38;5;241m=\u001b[39mall_returns)\n\u001b[0;32m      7\u001b[0m \u001b[38;5;66;03m# Calculating optimal portfolio\u001b[39;00m\n\u001b[0;32m      8\u001b[0m \n\u001b[0;32m      9\u001b[0m \u001b[38;5;66;03m# Select method and estimate input parameters:\u001b[39;00m\n\u001b[0;32m     11\u001b[0m method_mu\u001b[38;5;241m=\u001b[39m\u001b[38;5;124m'\u001b[39m\u001b[38;5;124mhist\u001b[39m\u001b[38;5;124m'\u001b[39m \u001b[38;5;66;03m# Method to estimate expected returns based on historical data.\u001b[39;00m\n",
      "\u001b[1;31mAttributeError\u001b[0m: module 'riskfolio' has no attribute 'riskfolio'"
     ]
    }
   ],
   "source": [
    "import riskfolio\n",
    "\n",
    "\n",
    "# Building the portfolio object\n",
    "port = rp.riskfolio.Portfolio(returns=all_returns)\n",
    "\n",
    "# Calculating optimal portfolio\n",
    "\n",
    "# Select method and estimate input parameters:\n",
    "\n",
    "method_mu='hist' # Method to estimate expected returns based on historical data.\n",
    "method_cov='hist' # Method to estimate covariance matrix based on historical data.\n",
    "\n",
    "port.assets_stats(method_mu=method_mu, method_cov=method_cov, d=0.94)\n",
    "\n",
    "# Estimate optimal portfolio:\n",
    "\n",
    "model='Classic' # Could be Classic (historical), BL (Black Litterman) or FM (Factor Model)\n",
    "rm = 'MV' # Risk measure used, this time will be variance\n",
    "obj = 'Sharpe' # Objective function, could be MinRisk, MaxRet, Utility or Sharpe\n",
    "hist = True # Use historical scenarios for risk measures that depend on scenarios\n",
    "rf = 0 # Risk free rate\n",
    "l = 0 # Risk aversion factor, only useful when obj is 'Utility'\n",
    "\n",
    "w = port.optimization(model=model, rm=rm, obj=obj, rf=rf, l=l, hist=hist)\n",
    "\n",
    "display(w)"
   ]
  },
  {
   "cell_type": "code",
   "execution_count": null,
   "id": "ff758f8a",
   "metadata": {},
   "outputs": [],
   "source": [
    "# Plotting the composition of the portfolio\n",
    "\n",
    "ax = rp.plot_pie(w=w, title='Sharpe Mean Variance', others=0.05, nrow=25, cmap = \"tab20\",\n",
    "                 height=6, width=10, ax=None)"
   ]
  },
  {
   "cell_type": "code",
   "execution_count": null,
   "id": "2dd58e42",
   "metadata": {},
   "outputs": [],
   "source": [
    "points = 50 # Number of points of the frontier\n",
    "\n",
    "frontier = port.efficient_frontier(model=model, rm=rm, points=points, rf=rf, hist=hist)\n",
    "\n",
    "# Plotting the efficient frontier\n",
    "\n",
    "label = 'Max Risk Adjusted Return Portfolio' # Title of point\n",
    "mu = port.mu # Expected returns\n",
    "cov = port.cov # Covariance matrix\n",
    "returns = port.returns # Returns of the assets\n",
    "\n",
    "ax = rp.plot_frontier(w_frontier=frontier, mu=mu, cov=cov, returns=returns, rm=rm,\n",
    "                      rf=rf, alpha=0.05, cmap='viridis', w=w, label=label,\n",
    "                      marker='*', s=16, c='r', height=6, width=10, ax=None)"
   ]
  },
  {
   "cell_type": "code",
   "execution_count": null,
   "id": "8cdcc3bd",
   "metadata": {},
   "outputs": [],
   "source": [
    "\n",
    "asset_classes = {'Assets': ['XIU.TO', 'SPY', 'AGG', 'MY_STOCK_Portf'], \n",
    "                 'Group': ['ETF', 'ETF','ETF', 'MY_STOCKS']}\n",
    "\n",
    "asset_classes = pd.DataFrame(asset_classes)\n",
    "#asset_classes = asset_classes.sort_values(by=['Assets'])\n",
    "\n",
    "constraints = {'Disabled': [False, False, False, False],\n",
    "               'Type': ['Classes', 'Classes', 'Classes', 'Classes'],\n",
    "               'Set': ['Group', 'Group', 'Group', 'Group'],\n",
    "               'Position': ['ETF', 'ETF', 'ETF', 'MY_STOCKS'],\n",
    "               'Sign': ['>=', '>=', '>=', '>='],\n",
    "               'Weight': [0.01, 0.01, 0.01, 0.5],\n",
    "               'Type Relative': ['', '', '', ''],\n",
    "               'Relative Set': ['', '', '', ''],\n",
    "               'Relative': ['', '', '', ''],\n",
    "               'Factor': ['', '', '', '']}\n",
    "\n",
    "constraints = pd.DataFrame(constraints)\n",
    "\n",
    "display(constraints)"
   ]
  },
  {
   "cell_type": "code",
   "execution_count": null,
   "id": "f8849301",
   "metadata": {},
   "outputs": [],
   "source": [
    "display(asset_classes)"
   ]
  },
  {
   "cell_type": "code",
   "execution_count": null,
   "id": "44e783f6",
   "metadata": {},
   "outputs": [],
   "source": [
    "A, B = rp.assets_constraints(constraints, asset_classes)"
   ]
  },
  {
   "cell_type": "code",
   "execution_count": null,
   "id": "65cba89e",
   "metadata": {},
   "outputs": [],
   "source": [
    "port.ainequality = A\n",
    "port.binequality = B\n",
    "\n",
    "model = 'Classic'\n",
    "rm = 'MV'\n",
    "obj = 'Sharpe'\n",
    "rf = 0\n",
    "\n",
    "w = port.optimization(model=model, rm=rm, obj=obj, rf=rf, l=l, hist=hist)\n",
    "\n",
    "display(w.transpose())"
   ]
  },
  {
   "cell_type": "code",
   "execution_count": null,
   "id": "d9099e3e",
   "metadata": {},
   "outputs": [],
   "source": [
    "my_weights = w.T\n",
    "my_weights.columns = ['XIU', 'SPY', 'AGG', 'MY_STOCKS']\n",
    "display(my_weights)"
   ]
  },
  {
   "cell_type": "code",
   "execution_count": null,
   "id": "7dba7ed0",
   "metadata": {},
   "outputs": [],
   "source": [
    "ax = rp.plot_pie(w=w, title='Sharpe Mean Variance', others=0.01, nrow=25, cmap = \"tab20\",\n",
    "                 height=6, width=10, ax=None)\n"
   ]
  },
  {
   "cell_type": "markdown",
   "id": "1a7edd96",
   "metadata": {},
   "source": [
    "#### We constructed a portfolio consisting of our 10-Stock Portfolio, and our ETFs in 2021-Dec with the weights given in 'w'"
   ]
  },
  {
   "cell_type": "markdown",
   "id": "54485e54",
   "metadata": {},
   "source": [
    "### What has been the return of this portfolio in 2022? \n",
    "#### Let's collect the price data in 2022 and calculate"
   ]
  },
  {
   "cell_type": "code",
   "execution_count": null,
   "id": "85d0c0a5",
   "metadata": {},
   "outputs": [],
   "source": [
    "\n",
    "# Date range\n",
    "start = '2022-01-01'\n",
    "end = '2022-12-31'\n",
    "\n",
    "# Tickers of assets\n",
    "my_stocks = ['JCI', 'TGT', 'CMCSA', 'CPB', 'MO', 'APA', 'MMC', 'JPM',\n",
    "          'MSFT', 'PSA']\n",
    "my_etfs= ['XIU.TO', 'SPY', 'AGG']\n",
    "all_assets = my_stocks + my_etfs\n",
    "\n",
    "# Downloading data for stock portfolio\n",
    "data = yf.download(all_assets, start = start, end = end)\n",
    "data = data.loc[:,('Adj Close', slice(None))]\n",
    "data.columns = all_assets\n",
    "#Calculating returns\n",
    "asset_returns = data[all_assets].pct_change().dropna()\n",
    "display(asset_returns.head())"
   ]
  },
  {
   "cell_type": "code",
   "execution_count": null,
   "id": "f600f09b",
   "metadata": {},
   "outputs": [],
   "source": [
    "port_weights =[0.1*my_weights.MY_STOCKS]*len(my_stocks) + [my_weights.XIU] + [my_weights.SPY] + [my_weights.AGG]\n",
    "port_weights= np.transpose(port_weights)\n",
    "\n",
    "weighted_asset_returns = port_weights * asset_returns\n",
    "\n",
    "display(weighted_asset_returns.shape)\n",
    "port_ret_2022 = weighted_asset_returns.sum(axis=1) # Returns of the Stock Portfolio in 2022\n",
    "port_ret = pd.DataFrame(port_ret_2022)\n",
    "port_ret.columns = ['MY_Portfolio_Rets']\n",
    "display(port_ret.head())"
   ]
  },
  {
   "cell_type": "code",
   "execution_count": null,
   "id": "2ae601f0",
   "metadata": {
    "scrolled": true
   },
   "outputs": [],
   "source": [
    "\n",
    "# Cumulative Portfolio Return\n",
    "C_port_ret = (1 + port_ret).cumprod()\n",
    "\n",
    "print(\"Last Portfolio Value:\")\n",
    "display(C_port_ret[(len(C_port_ret)-1):])   \n"
   ]
  },
  {
   "cell_type": "code",
   "execution_count": null,
   "id": "f1baccf5",
   "metadata": {},
   "outputs": [],
   "source": [
    "import matplotlib.pyplot as plt\n",
    "fig = plt.figure(figsize=(12, 6))\n",
    "ax1 = fig.add_subplot(1, 1, 1)\n",
    "C_port_ret.plot(ax=ax1)\n",
    "ax1.set_xlabel('Date')\n",
    "ax1.set_ylabel('Cumulative return')\n",
    "ax1.set_title('Cumulative Returns')\n",
    "plt.show()"
   ]
  },
  {
   "cell_type": "markdown",
   "id": "e2cd681b",
   "metadata": {},
   "source": [
    "#### If we had simulated the possible outcomes of returns in 2021-Dec based on historical data, how would that look like?\n",
    "#### "
   ]
  },
  {
   "cell_type": "code",
   "execution_count": null,
   "id": "0156c3ad",
   "metadata": {},
   "outputs": [],
   "source": [
    "# We can use the historical returns 'all_returns' to get the parameters of the simulations\n",
    "## Calculate the covariance matrix:\n",
    "returns = all_returns\n",
    "\n",
    "T = 10/12\n",
    "N_SIMS = 10 ** 5\n",
    "\n",
    "cov_mat = returns.cov()\n",
    "mu = np.mean(returns, axis=0).values*252\n",
    "sigma = np.std(returns, axis=0).values*np.sqrt(252)\n",
    "\n",
    "display(sigma)\n",
    "display(mu)"
   ]
  },
  {
   "cell_type": "code",
   "execution_count": null,
   "id": "68e5e097",
   "metadata": {},
   "outputs": [],
   "source": [
    "\n",
    "## Perform the Cholesky decomposition of the covariance matrix:\n",
    "\n",
    "def GBMsimulator(seed, So, mu, sigma, Cov, T, N):\n",
    "    \"\"\"\n",
    "    Parameters\n",
    "    seed:   seed of simulation\n",
    "    So:     initial stocks' price\n",
    "    mu:     expected return\n",
    "    sigma:  volatility\n",
    "    Cov:    covariance matrix\n",
    "    T:      time period\n",
    "    N:      number of increments\n",
    "    \"\"\"\n",
    "\n",
    "    np.random.seed(seed)\n",
    "    dim = np.size(So)\n",
    "    t = np.linspace(0., T, int(N))\n",
    "    A = np.linalg.cholesky(Cov)\n",
    "    S = np.zeros([dim, int(N)])\n",
    "    S[:, 0] = So\n",
    "    for i in range(1, int(N)):    \n",
    "        drift = (mu - 0.5 * sigma**2) * (t[i] - t[i-1])\n",
    "        Z = np.random.normal(0., 1., dim)\n",
    "        diffusion = np.matmul(A, Z) * (np.sqrt(t[i] - t[i-1]))\n",
    "        S[:, i] = S[:, i-1]*np.exp(drift + diffusion)\n",
    "    return S, t"
   ]
  },
  {
   "cell_type": "code",
   "execution_count": null,
   "id": "4847b5a3",
   "metadata": {},
   "outputs": [],
   "source": [
    "seed = 22                       \n",
    "\n",
    "dim = len(w); T = 10/12; N_SIMS = 1000\n",
    "\n",
    "S0 = np.array([1, 1, 1, 1])\n",
    "N_steps = int(T*252)\n",
    "\n",
    "assets, time = GBMsimulator(seed, S0, mu, sigma, cov_mat, T, N_steps)\n",
    "\n",
    "\n",
    "# Number of Simulations\n",
    "\n",
    "np.random.seed(seed)\n",
    "                                      \n",
    "\n",
    "Simulated_Paths = np.zeros([N_SIMS, dim, N_steps])\n",
    "\n",
    "Simulated_Paths[0, :, :] = assets\n",
    "\n",
    "for k in range(1, N_SIMS):\n",
    "    seed = int(np.random.uniform(1,2**32-1,1))\n",
    "    Simulated_Paths[k, :, :] = GBMsimulator(seed, S0, mu, sigma, cov_mat, T, N_steps)[0]\n",
    "\n",
    "# Plot one of the simulations, e.g. the 0th\n",
    "\n",
    "#plt.figure(figsize = (16,8))\n",
    "#plt.title('Multidimensional Correlated GBM', fontsize = 18)\n",
    "#plt.xlabel('Time', fontsize = 18)\n",
    "\n",
    "#for j in range(dim):\n",
    "#    plt.plot(time, SS[0, j, 210])\n",
    "#plt.show()\n",
    "\n",
    "\n",
    "display(Simulated_Paths.shape)"
   ]
  },
  {
   "cell_type": "code",
   "execution_count": null,
   "id": "6dbfd6c4",
   "metadata": {},
   "outputs": [],
   "source": [
    "Simul_Last_Values = Simulated_Paths[:,:,(N_steps-1)]\n",
    "#display(Simul_Last_Values.shape)\n",
    "Simul_Last_Portf_Values = w.transpose().values*Simul_Last_Values\n",
    "#display(Simul_Last_Portf_Values.shape)\n",
    "X = pd.DataFrame(Simul_Last_Portf_Values).sum(axis=1)\n",
    "display(X)"
   ]
  },
  {
   "cell_type": "code",
   "execution_count": null,
   "id": "e05d7f1b",
   "metadata": {},
   "outputs": [],
   "source": [
    "import matplotlib.pyplot as pl\n",
    "\n",
    "print('Portfolio Value Histogram:')\n",
    "pl.figure()\n",
    "pl.hist(X,bins=100, density=True, stacked=True)\n",
    "pl.xlabel('Portfolio Value')\n",
    "pl.ylabel('Probability Density Function')\n",
    "pl.show()\n"
   ]
  },
  {
   "cell_type": "code",
   "execution_count": null,
   "id": "6de4a038",
   "metadata": {},
   "outputs": [],
   "source": []
  }
 ],
 "metadata": {
  "kernelspec": {
   "display_name": "portfolio",
   "language": "python",
   "name": "portfolio"
  },
  "language_info": {
   "codemirror_mode": {
    "name": "ipython",
    "version": 3
   },
   "file_extension": ".py",
   "mimetype": "text/x-python",
   "name": "python",
   "nbconvert_exporter": "python",
   "pygments_lexer": "ipython3",
   "version": "3.9.16"
  }
 },
 "nbformat": 4,
 "nbformat_minor": 5
}
